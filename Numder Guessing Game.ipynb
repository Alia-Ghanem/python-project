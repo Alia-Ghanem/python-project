{
 "cells": [
  {
   "cell_type": "code",
   "execution_count": 6,
   "metadata": {},
   "outputs": [
    {
     "name": "stdout",
     "output_type": "stream",
     "text": [
      "too low! \n",
      "too low! \n",
      "your gussed is right\n"
     ]
    }
   ],
   "source": [
    "\n",
    "import random\n",
    "n = random.randrange(1,10)\n",
    "guess = int(input(\"Enter any number..\"))\n",
    "while n!= guess:\n",
    "    if guess< n:\n",
    "        print ('too low! ')\n",
    "\n",
    "        guess = int (input('Enter anthor numder ...'))\n",
    "    elif guess> n:\n",
    "        print('too high!')\n",
    "        guess = int (input('Enter anthor numder ...'))\n",
    "    else:\n",
    "        break\n",
    "print ('your gussed is right')\n"
   ]
  }
 ],
 "metadata": {
  "kernelspec": {
   "display_name": "base",
   "language": "python",
   "name": "python3"
  },
  "language_info": {
   "codemirror_mode": {
    "name": "ipython",
    "version": 3
   },
   "file_extension": ".py",
   "mimetype": "text/x-python",
   "name": "python",
   "nbconvert_exporter": "python",
   "pygments_lexer": "ipython3",
   "version": "3.8.8"
  },
  "orig_nbformat": 4
 },
 "nbformat": 4,
 "nbformat_minor": 2
}
