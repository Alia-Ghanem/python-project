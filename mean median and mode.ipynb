{
 "cells": [
  {
   "cell_type": "code",
   "execution_count": 1,
   "metadata": {},
   "outputs": [
    {
     "name": "stdout",
     "output_type": "stream",
     "text": [
      "Mean = 38.333333333333336\n"
     ]
    }
   ],
   "source": [
    "#mean 1\n",
    "import statistics\n",
    "numbers = [10,20,30,60,40,70,60,50,5]\n",
    "mean = statistics.mean(numbers)\n",
    "print(\"Mean =\", mean)\n",
    "\n",
    "\n"
   ]
  },
  {
   "cell_type": "code",
   "execution_count": 13,
   "metadata": {},
   "outputs": [
    {
     "name": "stdout",
     "output_type": "stream",
     "text": [
      "Mean = 20\n"
     ]
    }
   ],
   "source": [
    "#user write list 1\n",
    "import statistics\n",
    "numbers = input(\"Enter a list of numbers separated by a space: \").split()\n",
    "numbers = [int(num) for num in numbers]\n",
    "mean = statistics.mean(numbers)\n",
    "print(\"Mean =\", mean)\n",
    "\n",
    "\n"
   ]
  },
  {
   "cell_type": "code",
   "execution_count": 14,
   "metadata": {},
   "outputs": [
    {
     "name": "stdout",
     "output_type": "stream",
     "text": [
      "Mean = 38.333333333333336\n"
     ]
    }
   ],
   "source": [
    "#mean 2\n",
    "list =[10,20,30,60,40,70,60,50,5]\n",
    "mean = sum(list)/len(list)\n",
    "print(\"Mean =\", mean)\n",
    "\n"
   ]
  },
  {
   "cell_type": "code",
   "execution_count": 2,
   "metadata": {},
   "outputs": [
    {
     "name": "stdout",
     "output_type": "stream",
     "text": [
      "Mean = 20.0\n"
     ]
    }
   ],
   "source": [
    "#user write list 2\n",
    "numbers = input(\"Enter a list of numbers separated by a space: \").split()\n",
    "numbers = [int(num) for num in numbers]\n",
    "mean = sum(numbers) / len(numbers)\n",
    "print(\"Mean =\", mean)\n",
    "\n",
    "\n"
   ]
  },
  {
   "cell_type": "code",
   "execution_count": 16,
   "metadata": {},
   "outputs": [
    {
     "name": "stdout",
     "output_type": "stream",
     "text": [
      "Median: 40\n"
     ]
    }
   ],
   "source": [
    "#median 1 \n",
    "import statistics\n",
    "numbers = [10,20,30,60,40,70,60,50,5]\n",
    "median = statistics.median(numbers)\n",
    "print(\"Median:\", median)\n"
   ]
  },
  {
   "cell_type": "code",
   "execution_count": 17,
   "metadata": {},
   "outputs": [
    {
     "name": "stdout",
     "output_type": "stream",
     "text": [
      "Median: 20\n"
     ]
    }
   ],
   "source": [
    "#median user 1 \n",
    "import statistics\n",
    "numbers = input(\"Enter a list of numbers separated by a space: \").split()\n",
    "numbers = [int(num) for num in numbers]\n",
    "median = statistics.median(numbers)\n",
    "print(\"Median:\", median)\n",
    "\n"
   ]
  },
  {
   "cell_type": "code",
   "execution_count": 18,
   "metadata": {},
   "outputs": [
    {
     "name": "stdout",
     "output_type": "stream",
     "text": [
      "Median: 40\n"
     ]
    }
   ],
   "source": [
    "#median 1 \n",
    "numbers = [10,20,30,60,40,70,60,50,5]\n",
    "numbers.sort()\n",
    "n = len(numbers)\n",
    "if n % 2 == 0:\n",
    "    median = (numbers[n//2 - 1] + numbers[n//2]) / 2\n",
    "else:\n",
    "    median = numbers[n//2]\n",
    "print(\"Median:\", median)\n",
    "\n"
   ]
  },
  {
   "cell_type": "code",
   "execution_count": 3,
   "metadata": {},
   "outputs": [
    {
     "name": "stdout",
     "output_type": "stream",
     "text": [
      "Median: 30\n"
     ]
    }
   ],
   "source": [
    "#median user 2 \n",
    "numbers = input(\"Enter a list of numbers separated by a space: \").split()\n",
    "numbers = [int(num) for num in numbers]\n",
    "numbers.sort()\n",
    "n = len(numbers)\n",
    "if n % 2 == 0:\n",
    "    median = (numbers[n//2 - 1] + numbers[n//2]) / 2\n",
    "else:\n",
    "    median = numbers[n//2]\n",
    "print(\"Median:\", median)\n"
   ]
  },
  {
   "cell_type": "code",
   "execution_count": 20,
   "metadata": {},
   "outputs": [
    {
     "name": "stdout",
     "output_type": "stream",
     "text": [
      "Mode: 60\n"
     ]
    }
   ],
   "source": [
    "#mode1\n",
    "import statistics\n",
    "numbers = [10,20,30,60,40,70,60,50,5]\n",
    "mode = statistics.mode(numbers)\n",
    "print(\"Mode:\", mode)\n",
    "\n"
   ]
  },
  {
   "cell_type": "code",
   "execution_count": 21,
   "metadata": {},
   "outputs": [
    {
     "name": "stdout",
     "output_type": "stream",
     "text": [
      "Mode: 20\n"
     ]
    }
   ],
   "source": [
    "#mode user 1\n",
    "import statistics\n",
    "numbers = input(\"Enter a list of numbers separated by a space: \").split()\n",
    "numbers = [int(num) for num in numbers]\n",
    "mode = statistics.mode(numbers)\n",
    "print(\"Mode:\", mode)\n",
    "\n"
   ]
  },
  {
   "cell_type": "code",
   "execution_count": 22,
   "metadata": {},
   "outputs": [
    {
     "name": "stdout",
     "output_type": "stream",
     "text": [
      "20\n"
     ]
    }
   ],
   "source": [
    "# Mode 2\n",
    "numbers = [12, 16, 20, 20, 12, 30, 25, 23, 24, 20]\n",
    "frequency = { }\n",
    "for i in numbers:\n",
    "    frequency.setdefault(i, 0)\n",
    "    frequency[i]+=1\n",
    "frequent = max(frequency.values())\n",
    "for i, j in frequency.items():\n",
    "    if j == frequent:\n",
    "       mode = i\n",
    "print(mode)"
   ]
  },
  {
   "cell_type": "code",
   "execution_count": 5,
   "metadata": {},
   "outputs": [
    {
     "name": "stdout",
     "output_type": "stream",
     "text": [
      "10\n"
     ]
    }
   ],
   "source": [
    "# Mode 2\n",
    "numbers = input(\"Enter a list of numbers separated by a space: \").split()\n",
    "numbers = [int(num) for num in numbers]\n",
    "frequency = {}\n",
    "for i in numbers:\n",
    "    frequency.setdefault(i, 0)\n",
    "    frequency[i]+=1\n",
    "frequent = max(frequency.values())\n",
    "for i, j in frequency.items():\n",
    "    if j == frequent:\n",
    "       mode = i\n",
    "print(mode)"
   ]
  }
 ],
 "metadata": {
  "kernelspec": {
   "display_name": "base",
   "language": "python",
   "name": "python3"
  },
  "language_info": {
   "codemirror_mode": {
    "name": "ipython",
    "version": 3
   },
   "file_extension": ".py",
   "mimetype": "text/x-python",
   "name": "python",
   "nbconvert_exporter": "python",
   "pygments_lexer": "ipython3",
   "version": "3.8.8"
  },
  "orig_nbformat": 4
 },
 "nbformat": 4,
 "nbformat_minor": 2
}
