{
 "cells": [
  {
   "cell_type": "code",
   "execution_count": 1,
   "metadata": {},
   "outputs": [
    {
     "name": "stdout",
     "output_type": "stream",
     "text": [
      "I'm learning Python. It's easy.\n"
     ]
    }
   ],
   "source": [
    "print('I\\'m learning Python. It\\'s easy.')"
   ]
  },
  {
   "cell_type": "code",
   "execution_count": 2,
   "metadata": {},
   "outputs": [
    {
     "name": "stdout",
     "output_type": "stream",
     "text": [
      "A\n",
      "B\n",
      "C\n",
      "D\n"
     ]
    }
   ],
   "source": [
    "# Write a program to output the letters A B C D, each on a separate line.\n",
    "print(\"\"\"A\n",
    "B\n",
    "C\n",
    "D\"\"\")"
   ]
  },
  {
   "cell_type": "code",
   "execution_count": 5,
   "metadata": {},
   "outputs": [
    {
     "name": "stdout",
     "output_type": "stream",
     "text": [
      "hihihihihihihihihihihihihihihihihihihihihihihihihihihihihihihihihihihihihihihihihihi\n"
     ]
    }
   ],
   "source": [
    "# Create a program to output \"hi\" 42 times, without any separators, on the same line.\n",
    "print (\"hi\" *42)"
   ]
  },
  {
   "cell_type": "code",
   "execution_count": 2,
   "metadata": {},
   "outputs": [
    {
     "name": "stdout",
     "output_type": "stream",
     "text": [
      "15151515151515151515\n"
     ]
    }
   ],
   "source": [
    "# wrote code to take a string input and output it, repeated 10 times.\n",
    "x = input()\n",
    "\n",
    "print(x*10)\n"
   ]
  },
  {
   "cell_type": "code",
   "execution_count": 3,
   "metadata": {},
   "outputs": [
    {
     "name": "stdout",
     "output_type": "stream",
     "text": [
      "aliaaaliaaaliaaaliaaaliaa\n"
     ]
    }
   ],
   "source": [
    "# Write a program to take x and y as input and output the string x, repeated y times.\n",
    "x=input()\n",
    "y=int(input())\n",
    "print (x*y)"
   ]
  },
  {
   "cell_type": "code",
   "execution_count": 4,
   "metadata": {},
   "outputs": [
    {
     "name": "stdout",
     "output_type": "stream",
     "text": [
      "Boiling\n"
     ]
    }
   ],
   "source": [
    "#Write a program that checks if the water is boiling.\n",
    "temp = int(input())\n",
    "if temp >= 100 :\n",
    "    print (\"Boiling\")\n"
   ]
  },
  {
   "cell_type": "code",
   "execution_count": 7,
   "metadata": {},
   "outputs": [
    {
     "name": "stdout",
     "output_type": "stream",
     "text": [
      "Allowed\n"
     ]
    }
   ],
   "source": [
    "#Write a program to control entrance to a club Only people who are 18 or older are allowed to enter the club.\n",
    "age = int(input())\n",
    "if age >= 18:\n",
    "    print (\"Allowed\")\n",
    "else :\n",
    "    print (\"Sorry\")\n"
   ]
  },
  {
   "cell_type": "code",
   "execution_count": 8,
   "metadata": {},
   "outputs": [
    {
     "name": "stdout",
     "output_type": "stream",
     "text": [
      "teen\n"
     ]
    }
   ],
   "source": [
    "# Given the age of a person as an input, output their age group ,Here are the age groups you need to handle:\n",
    "# Child: 0 to 11\n",
    "# Teen: 12 to 17\n",
    "# Adult: 18 to 64\n",
    "age =int(input())\n",
    "if (age>=0 and age <=11):\n",
    "    print (\"child\")\n",
    "elif (age >= 12 and age <=17):\n",
    "    print ('teen')\n",
    "elif ( age >= 18 and age <= 64):\n",
    "    print(\"adult\")\n"
   ]
  },
  {
   "cell_type": "code",
   "execution_count": 20,
   "metadata": {},
   "outputs": [
    {
     "name": "stdout",
     "output_type": "stream",
     "text": [
      "0\n",
      "1\n",
      "2\n",
      "3\n",
      "4\n",
      "5\n",
      "6\n",
      "7\n",
      "8\n",
      "9\n",
      "10\n",
      "0\n",
      "2\n",
      "4\n",
      "6\n",
      "8\n",
      "10\n",
      "1\n",
      "3\n",
      "5\n",
      "7\n",
      "9\n"
     ]
    }
   ],
   "source": [
    "# given a program that outputs all the numbers from 0 to 10 , Change the code to make it output only the even numbers.\n",
    "x=0\n",
    "while x <=10: \n",
    "    print (x)\n",
    "    x+=1\n",
    "\n",
    "x=0\n",
    "while x <=10: \n",
    "    print (x)\n",
    "    x +=2\n",
    "\n",
    "x=1\n",
    "while x <=10: \n",
    "    print (x)\n",
    "    x +=2\n",
    "    \n",
    "\n",
    "    \n",
    "\n"
   ]
  },
  {
   "cell_type": "code",
   "execution_count": 24,
   "metadata": {},
   "outputs": [
    {
     "name": "stdout",
     "output_type": "stream",
     "text": [
      "400\n"
     ]
    }
   ],
   "source": [
    "#making a ticketing system , The price of a single ticket is $100 , For children under 3 years of age, the ticket is free ,\n",
    "# Your program needs to take the ages of 5 passengers as input and output the total price for their tickets.\n",
    "total =0\n",
    "x=1\n",
    "while x <= 5:\n",
    "    age = int(input())\n",
    "    if age >3:\n",
    "        total += 100\n",
    "    else :\n",
    "        total += 0\n",
    "    x += 1\n",
    "print (total)"
   ]
  },
  {
   "cell_type": "code",
   "execution_count": 37,
   "metadata": {},
   "outputs": [
    {
     "name": "stdout",
     "output_type": "stream",
     "text": [
      "normal\n"
     ]
    }
   ],
   "source": [
    "# creating a program that takes a person's weight and height as input and outputs the corresponding BMI category,using this formula: weight / height²  ,The resulting number indicates one of the following categories:\n",
    "# Underweight = less than 18.5\n",
    "# Normal = more or equal to 18.5 and less than 25\n",
    "# Overweight = more or equal to 25 and less than 30\n",
    "# Obesity = 30 or more\n",
    "w=int(input())\n",
    "h = float(input())\n",
    "bmi = w/h**2\n",
    "if bmi < 18.5 :\n",
    "    print (\"uderweight\")\n",
    "elif  bmi >= 18.5 and bmi <25:\n",
    "    print (\"normal\")\n",
    "elif  bmi >= 25 and bmi <30:\n",
    "    print( \"overweight\")\n",
    "elif  bmi >= 30 :\n",
    "    print (\"obesity\")\n",
    "\n",
    "\n",
    "# w=int(input())\n",
    "# h=float(input ())\n",
    "# bmi=(w/(h**2))\n",
    "\n",
    "# while bmi<18.5:\n",
    "#  print(\"Underweight\")\n",
    "#  break \n",
    "# while  bmi>=18.5 and bmi<25.0:\n",
    "#  print (\"Normal\")\n",
    "#  break\n",
    "# while bmi>=25.0 and bmi<30.0:\n",
    "#  print (\"Overweight\")\n",
    "#  break\n",
    "# while  bmi>30.0:\n",
    "#  print (\"Obesity\")\n",
    "#  break"
   ]
  },
  {
   "cell_type": "code",
   "execution_count": 45,
   "metadata": {},
   "outputs": [
    {
     "name": "stdout",
     "output_type": "stream",
     "text": [
      "5\n"
     ]
    }
   ],
   "source": [
    "#Write a program that takes an input string and outputs the 3rd character of the string.\n",
    "x=[]\n",
    "y = list(input())\n",
    "x.extend (y)\n",
    "print (x[3])"
   ]
  },
  {
   "cell_type": "code",
   "execution_count": 47,
   "metadata": {},
   "outputs": [
    {
     "name": "stdout",
     "output_type": "stream",
     "text": [
      "bingo\n"
     ]
    }
   ],
   "source": [
    "#Given a list of numbers, output \"bingo\" if it contains the input number.\n",
    "x=[15,12 ,30,66,152,224,99,100]\n",
    "num = int(input ())\n",
    "if num in x:\n",
    "    print (\"bingo\")"
   ]
  },
  {
   "cell_type": "code",
   "execution_count": 49,
   "metadata": {},
   "outputs": [
    {
     "name": "stdout",
     "output_type": "stream",
     "text": [
      "365\n"
     ]
    }
   ],
   "source": [
    "#Given a list of numbers, calculate their sum using a for loop.\n",
    "x=[15,22,12,11,140,1,6,158]\n",
    "y=0\n",
    "for z in x :\n",
    "    y+= z\n",
    "print (y)\n",
    " "
   ]
  },
  {
   "cell_type": "code",
   "execution_count": 50,
   "metadata": {},
   "outputs": [
    {
     "name": "stdout",
     "output_type": "stream",
     "text": [
      "[2001, 2002, 2003, 2004, 2005, 2006, 2007, 2008, 2009, 2010, 2011, 2012, 2013, 2014]\n"
     ]
    }
   ],
   "source": [
    "#creating a date picker for a website and need to output all of the years in a given period.\n",
    "# Write a program that takes two integers as input and outputs the range of numbers between the two inputs as a list.\n",
    "# The output sequence should start with the first input number and end with the second input number, without including it.\n",
    "x= int(input())\n",
    "y =int(input())\n",
    "z =list(range(x,y))\n",
    "print (z)"
   ]
  },
  {
   "cell_type": "code",
   "execution_count": 51,
   "metadata": {},
   "outputs": [
    {
     "name": "stdout",
     "output_type": "stream",
     "text": [
      "5050\n"
     ]
    }
   ],
   "source": [
    "#Write a program that calculate Sum of Consecutive Numb\n",
    "x=int(input())\n",
    "y =list(range(1,1+x))\n",
    "z=0\n",
    "for a in y :\n",
    "    z+= a\n",
    "print (z)\n"
   ]
  },
  {
   "cell_type": "code",
   "execution_count": 52,
   "metadata": {},
   "outputs": [
    {
     "name": "stdout",
     "output_type": "stream",
     "text": [
      "['aliaa', 'ghanem ', 'ali', 'mohamed']\n"
     ]
    }
   ],
   "source": [
    "#Write a program to take an input, add it to the end of the queue, and output the resulting list.\n",
    "\n",
    "queue = ['aliaa','ghanem ', 'ali']\n",
    "x= input()\n",
    "queue.append(x)\n",
    "print(queue)"
   ]
  },
  {
   "cell_type": "code",
   "execution_count": 55,
   "metadata": {},
   "outputs": [
    {
     "name": "stdout",
     "output_type": "stream",
     "text": [
      "Aliaa  Ghanem \n"
     ]
    }
   ],
   "source": [
    "#Replace all of the # characters in the given input with spaces and output the result.\n",
    "msg = input()\n",
    "msg =msg.replace('#','  ')\n",
    "print(msg)"
   ]
  },
  {
   "cell_type": "code",
   "execution_count": 56,
   "metadata": {},
   "outputs": [
    {
     "name": "stdout",
     "output_type": "stream",
     "text": [
      "welcome  aliaa\n"
     ]
    }
   ],
   "source": [
    "#Replace all of the # characters in the given input with spaces and output the result.\n",
    "def welcome():\n",
    "    user = input()\n",
    "    print(\"welcome \",user)\n",
    "welcome()\n",
    "    "
   ]
  },
  {
   "cell_type": "code",
   "execution_count": 58,
   "metadata": {},
   "outputs": [
    {
     "name": "stdout",
     "output_type": "stream",
     "text": [
      "300\n"
     ]
    }
   ],
   "source": [
    "#calculate the area of a given rectangle.\n",
    "w = int(input())\n",
    "h = int(input())\n",
    "def area (w,h):\n",
    "    print(h*w)\n",
    "area(w,h)\n"
   ]
  },
  {
   "cell_type": "code",
   "execution_count": null,
   "metadata": {},
   "outputs": [],
   "source": []
  }
 ],
 "metadata": {
  "kernelspec": {
   "display_name": "base",
   "language": "python",
   "name": "python3"
  },
  "language_info": {
   "codemirror_mode": {
    "name": "ipython",
    "version": 3
   },
   "file_extension": ".py",
   "mimetype": "text/x-python",
   "name": "python",
   "nbconvert_exporter": "python",
   "pygments_lexer": "ipython3",
   "version": "3.8.8"
  },
  "orig_nbformat": 4
 },
 "nbformat": 4,
 "nbformat_minor": 2
}
